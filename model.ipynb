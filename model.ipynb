{
 "metadata": {
  "language_info": {
   "codemirror_mode": {
    "name": "ipython",
    "version": 3
   },
   "file_extension": ".py",
   "mimetype": "text/x-python",
   "name": "python",
   "nbconvert_exporter": "python",
   "pygments_lexer": "ipython3",
   "version": "3.7.10"
  },
  "orig_nbformat": 4,
  "kernelspec": {
   "name": "python3",
   "display_name": "Python 3.7.10 64-bit ('ML': conda)"
  },
  "interpreter": {
   "hash": "062ee0ffe41ef89635d527f25d43830a0e3fd32c7a0f7d06760be12d4809008a"
  }
 },
 "nbformat": 4,
 "nbformat_minor": 2,
 "cells": [
  {
   "cell_type": "markdown",
   "source": [
    "# Classification with Agricultural Data"
   ],
   "metadata": {}
  },
  {
   "cell_type": "markdown",
   "source": [
    "## Customary imports, and import of the Dataset"
   ],
   "metadata": {}
  },
  {
   "cell_type": "code",
   "execution_count": 1,
   "source": [
    "# Customary imports 1\r\n",
    "import numpy as np\r\n",
    "import pandas as pd\r\n",
    "import torch"
   ],
   "outputs": [],
   "metadata": {}
  },
  {
   "cell_type": "code",
   "execution_count": 2,
   "source": [
    "# Customary imports 2\r\n",
    "import matplotlib.pyplot as plt\r\n",
    "import seaborn as sns"
   ],
   "outputs": [],
   "metadata": {}
  },
  {
   "cell_type": "code",
   "execution_count": 16,
   "source": [
    "# Import the complete dataframe from the csv file\r\n",
    "df = pd.read_csv(\"Crop_recommendation.csv\")\r\n",
    "# \r\n",
    "# df.shape\r\n",
    "\r\n",
    "# batch_size = 64\r\n",
    "target = pd.DataFrame(df['label'].astype('category').cat.codes)\r\n",
    "del df['label']\r\n",
    "dataset_1 = torch.utils.data.TensorDataset(torch.Tensor(np.array(df)), torch.Tensor(np.array(target)).type(torch.LongTensor))\r\n",
    "train_loader_1 = torch.utils.data.DataLoader(dataset_1, batch_size = 128, shuffle = False)  # NOTE: If you shuffle you'll lose the temporal correlation\r\n"
   ],
   "outputs": [],
   "metadata": {}
  },
  {
   "cell_type": "markdown",
   "source": [
    "## Your Model is to Begin Here!"
   ],
   "metadata": {}
  },
  {
   "cell_type": "markdown",
   "source": [
    "### (a) Since this is a multi label classification, thus the softmax classification model is suitable for such an application. Cross-entropy loss is used to measure the performance of this model. Rectified Linear Unit (RELU) is applied after each layor."
   ],
   "metadata": {}
  },
  {
   "cell_type": "code",
   "execution_count": 13,
   "source": [
    "class Model(torch.nn.Module):\r\n",
    "    def __init__(self):\r\n",
    "        super().__init__()\r\n",
    "        self.l1 = torch.nn.Linear(7, 128)\r\n",
    "        # self.l2 = torch.nn.Linear(256, 128)\r\n",
    "        self.l3 = torch.nn.Linear(128, 64)\r\n",
    "        self.l4 = torch.nn.Linear(64, 32)\r\n",
    "        self.l5 = torch.nn.Linear(32, 22)\r\n",
    "\r\n",
    "    def forward(self, x):\r\n",
    "        x = torch.relu(self.l1(x))\r\n",
    "        # x = torch.relu(self.l2(x))\r\n",
    "        x = torch.relu(self.l3(x))\r\n",
    "        x = torch.relu(self.l4(x))\r\n",
    "        return self.l5(x)"
   ],
   "outputs": [],
   "metadata": {}
  },
  {
   "cell_type": "code",
   "execution_count": 19,
   "source": [
    "model = Model()\r\n",
    "optimizer = torch.optim.SGD(model.parameters(), lr=0.003)\r\n",
    "criterion = torch.nn.CrossEntropyLoss()\r\n",
    "\r\n",
    "epochs = []\r\n",
    "losses = []\r\n",
    "\r\n",
    "if __name__ == '__main__':\r\n",
    "    for epoch in range(100):\r\n",
    "        # print(epoch)\r\n",
    "        for i, data in enumerate(train_loader_1, 0):\r\n",
    "            inputs, label = data\r\n",
    "            label = label.view(-1)\r\n",
    "            output = model(inputs)\r\n",
    "            loss = criterion(output, label)\r\n",
    "            optimizer.zero_grad()\r\n",
    "            loss.backward()\r\n",
    "            optimizer.step()\r\n",
    "        epochs.append(epoch+1)\r\n",
    "        losses.append(loss.item())\r\n",
    "        print('epoch: %d loss: %.3f' % (epoch+1, loss.item()))\r\n",
    "\r\n",
    "plt.plot(epochs,losses)\r\n",
    "plt.grid()\r\n",
    "plt.show()"
   ],
   "outputs": [
    {
     "output_type": "stream",
     "name": "stdout",
     "text": [
      "epoch: 1 loss: 2.521\n",
      "epoch: 2 loss: 2.432\n",
      "epoch: 3 loss: 2.510\n",
      "epoch: 4 loss: 2.418\n",
      "epoch: 5 loss: 2.416\n",
      "epoch: 6 loss: 2.218\n",
      "epoch: 7 loss: 2.135\n",
      "epoch: 8 loss: 1.926\n",
      "epoch: 9 loss: 1.741\n",
      "epoch: 10 loss: 1.571\n",
      "epoch: 11 loss: 1.402\n",
      "epoch: 12 loss: 1.296\n",
      "epoch: 13 loss: 1.195\n",
      "epoch: 14 loss: 1.061\n",
      "epoch: 15 loss: 0.960\n",
      "epoch: 16 loss: 0.874\n",
      "epoch: 17 loss: 0.871\n",
      "epoch: 18 loss: 0.805\n",
      "epoch: 19 loss: 0.786\n",
      "epoch: 20 loss: 0.659\n",
      "epoch: 21 loss: 0.583\n",
      "epoch: 22 loss: 0.565\n",
      "epoch: 23 loss: 0.444\n",
      "epoch: 24 loss: 0.401\n",
      "epoch: 25 loss: 0.346\n",
      "epoch: 26 loss: 0.300\n",
      "epoch: 27 loss: 0.248\n",
      "epoch: 28 loss: 0.194\n",
      "epoch: 29 loss: 0.154\n",
      "epoch: 30 loss: 0.129\n",
      "epoch: 31 loss: 0.105\n",
      "epoch: 32 loss: 0.093\n",
      "epoch: 33 loss: 0.082\n",
      "epoch: 34 loss: 0.065\n",
      "epoch: 35 loss: 0.058\n",
      "epoch: 36 loss: 0.054\n",
      "epoch: 37 loss: 0.057\n",
      "epoch: 38 loss: 0.058\n",
      "epoch: 39 loss: 0.063\n",
      "epoch: 40 loss: 0.064\n",
      "epoch: 41 loss: 0.064\n",
      "epoch: 42 loss: 0.070\n",
      "epoch: 43 loss: 0.068\n",
      "epoch: 44 loss: 0.072\n",
      "epoch: 45 loss: 0.065\n",
      "epoch: 46 loss: 0.064\n",
      "epoch: 47 loss: 0.063\n",
      "epoch: 48 loss: 0.065\n",
      "epoch: 49 loss: 0.067\n",
      "epoch: 50 loss: 0.068\n",
      "epoch: 51 loss: 0.071\n",
      "epoch: 52 loss: 0.077\n",
      "epoch: 53 loss: 0.086\n",
      "epoch: 54 loss: 0.086\n",
      "epoch: 55 loss: 0.078\n",
      "epoch: 56 loss: 0.123\n",
      "epoch: 57 loss: 0.085\n",
      "epoch: 58 loss: 0.054\n",
      "epoch: 59 loss: 0.055\n",
      "epoch: 60 loss: 0.056\n",
      "epoch: 61 loss: 0.049\n",
      "epoch: 62 loss: 0.044\n",
      "epoch: 63 loss: 0.038\n",
      "epoch: 64 loss: 0.035\n",
      "epoch: 65 loss: 0.032\n",
      "epoch: 66 loss: 0.029\n",
      "epoch: 67 loss: 0.027\n",
      "epoch: 68 loss: 0.025\n",
      "epoch: 69 loss: 0.024\n",
      "epoch: 70 loss: 0.021\n",
      "epoch: 71 loss: 0.019\n",
      "epoch: 72 loss: 0.017\n",
      "epoch: 73 loss: 0.017\n",
      "epoch: 74 loss: 0.015\n",
      "epoch: 75 loss: 0.015\n",
      "epoch: 76 loss: 0.014\n",
      "epoch: 77 loss: 0.013\n",
      "epoch: 78 loss: 0.012\n",
      "epoch: 79 loss: 0.011\n",
      "epoch: 80 loss: 0.010\n",
      "epoch: 81 loss: 0.009\n",
      "epoch: 82 loss: 0.008\n",
      "epoch: 83 loss: 0.008\n",
      "epoch: 84 loss: 0.008\n",
      "epoch: 85 loss: 0.007\n",
      "epoch: 86 loss: 0.007\n",
      "epoch: 87 loss: 0.006\n",
      "epoch: 88 loss: 0.006\n",
      "epoch: 89 loss: 0.006\n",
      "epoch: 90 loss: 0.006\n",
      "epoch: 91 loss: 0.006\n",
      "epoch: 92 loss: 0.005\n",
      "epoch: 93 loss: 0.005\n",
      "epoch: 94 loss: 0.005\n",
      "epoch: 95 loss: 0.005\n",
      "epoch: 96 loss: 0.005\n",
      "epoch: 97 loss: 0.005\n",
      "epoch: 98 loss: 0.005\n",
      "epoch: 99 loss: 0.005\n",
      "epoch: 100 loss: 0.005\n"
     ]
    },
    {
     "output_type": "display_data",
     "data": {
      "text/plain": [
       "<Figure size 432x288 with 1 Axes>"
      ],
      "image/svg+xml": "<?xml version=\"1.0\" encoding=\"utf-8\" standalone=\"no\"?>\r\n<!DOCTYPE svg PUBLIC \"-//W3C//DTD SVG 1.1//EN\"\r\n  \"http://www.w3.org/Graphics/SVG/1.1/DTD/svg11.dtd\">\r\n<svg height=\"248.518125pt\" version=\"1.1\" viewBox=\"0 0 372.103125 248.518125\" width=\"372.103125pt\" xmlns=\"http://www.w3.org/2000/svg\" xmlns:xlink=\"http://www.w3.org/1999/xlink\">\r\n <metadata>\r\n  <rdf:RDF xmlns:cc=\"http://creativecommons.org/ns#\" xmlns:dc=\"http://purl.org/dc/elements/1.1/\" xmlns:rdf=\"http://www.w3.org/1999/02/22-rdf-syntax-ns#\">\r\n   <cc:Work>\r\n    <dc:type rdf:resource=\"http://purl.org/dc/dcmitype/StillImage\"/>\r\n    <dc:date>2021-08-11T15:58:18.457828</dc:date>\r\n    <dc:format>image/svg+xml</dc:format>\r\n    <dc:creator>\r\n     <cc:Agent>\r\n      <dc:title>Matplotlib v3.4.2, https://matplotlib.org/</dc:title>\r\n     </cc:Agent>\r\n    </dc:creator>\r\n   </cc:Work>\r\n  </rdf:RDF>\r\n </metadata>\r\n <defs>\r\n  <style type=\"text/css\">*{stroke-linecap:butt;stroke-linejoin:round;}</style>\r\n </defs>\r\n <g id=\"figure_1\">\r\n  <g id=\"patch_1\">\r\n   <path d=\"M 0 248.518125 \r\nL 372.103125 248.518125 \r\nL 372.103125 0 \r\nL 0 0 \r\nz\r\n\" style=\"fill:none;\"/>\r\n  </g>\r\n  <g id=\"axes_1\">\r\n   <g id=\"patch_2\">\r\n    <path d=\"M 30.103125 224.64 \r\nL 364.903125 224.64 \r\nL 364.903125 7.2 \r\nL 30.103125 7.2 \r\nz\r\n\" style=\"fill:#ffffff;\"/>\r\n   </g>\r\n   <g id=\"matplotlib.axis_1\">\r\n    <g id=\"xtick_1\">\r\n     <g id=\"line2d_1\">\r\n      <path clip-path=\"url(#p7c69a05f23)\" d=\"M 42.246927 224.64 \r\nL 42.246927 7.2 \r\n\" style=\"fill:none;stroke:#b0b0b0;stroke-linecap:square;stroke-width:0.8;\"/>\r\n     </g>\r\n     <g id=\"line2d_2\">\r\n      <defs>\r\n       <path d=\"M 0 0 \r\nL 0 3.5 \r\n\" id=\"m01ba61a9a5\" style=\"stroke:#000000;stroke-width:0.8;\"/>\r\n      </defs>\r\n      <g>\r\n       <use style=\"stroke:#000000;stroke-width:0.8;\" x=\"42.246927\" xlink:href=\"#m01ba61a9a5\" y=\"224.64\"/>\r\n      </g>\r\n     </g>\r\n     <g id=\"text_1\">\r\n      <!-- 0 -->\r\n      <g transform=\"translate(39.065677 239.238437)scale(0.1 -0.1)\">\r\n       <defs>\r\n        <path d=\"M 2034 4250 \r\nQ 1547 4250 1301 3770 \r\nQ 1056 3291 1056 2328 \r\nQ 1056 1369 1301 889 \r\nQ 1547 409 2034 409 \r\nQ 2525 409 2770 889 \r\nQ 3016 1369 3016 2328 \r\nQ 3016 3291 2770 3770 \r\nQ 2525 4250 2034 4250 \r\nz\r\nM 2034 4750 \r\nQ 2819 4750 3233 4129 \r\nQ 3647 3509 3647 2328 \r\nQ 3647 1150 3233 529 \r\nQ 2819 -91 2034 -91 \r\nQ 1250 -91 836 529 \r\nQ 422 1150 422 2328 \r\nQ 422 3509 836 4129 \r\nQ 1250 4750 2034 4750 \r\nz\r\n\" id=\"DejaVuSans-30\" transform=\"scale(0.015625)\"/>\r\n       </defs>\r\n       <use xlink:href=\"#DejaVuSans-30\"/>\r\n      </g>\r\n     </g>\r\n    </g>\r\n    <g id=\"xtick_2\">\r\n     <g id=\"line2d_3\">\r\n      <path clip-path=\"url(#p7c69a05f23)\" d=\"M 103.73453 224.64 \r\nL 103.73453 7.2 \r\n\" style=\"fill:none;stroke:#b0b0b0;stroke-linecap:square;stroke-width:0.8;\"/>\r\n     </g>\r\n     <g id=\"line2d_4\">\r\n      <g>\r\n       <use style=\"stroke:#000000;stroke-width:0.8;\" x=\"103.73453\" xlink:href=\"#m01ba61a9a5\" y=\"224.64\"/>\r\n      </g>\r\n     </g>\r\n     <g id=\"text_2\">\r\n      <!-- 20 -->\r\n      <g transform=\"translate(97.37203 239.238437)scale(0.1 -0.1)\">\r\n       <defs>\r\n        <path d=\"M 1228 531 \r\nL 3431 531 \r\nL 3431 0 \r\nL 469 0 \r\nL 469 531 \r\nQ 828 903 1448 1529 \r\nQ 2069 2156 2228 2338 \r\nQ 2531 2678 2651 2914 \r\nQ 2772 3150 2772 3378 \r\nQ 2772 3750 2511 3984 \r\nQ 2250 4219 1831 4219 \r\nQ 1534 4219 1204 4116 \r\nQ 875 4013 500 3803 \r\nL 500 4441 \r\nQ 881 4594 1212 4672 \r\nQ 1544 4750 1819 4750 \r\nQ 2544 4750 2975 4387 \r\nQ 3406 4025 3406 3419 \r\nQ 3406 3131 3298 2873 \r\nQ 3191 2616 2906 2266 \r\nQ 2828 2175 2409 1742 \r\nQ 1991 1309 1228 531 \r\nz\r\n\" id=\"DejaVuSans-32\" transform=\"scale(0.015625)\"/>\r\n       </defs>\r\n       <use xlink:href=\"#DejaVuSans-32\"/>\r\n       <use x=\"63.623047\" xlink:href=\"#DejaVuSans-30\"/>\r\n      </g>\r\n     </g>\r\n    </g>\r\n    <g id=\"xtick_3\">\r\n     <g id=\"line2d_5\">\r\n      <path clip-path=\"url(#p7c69a05f23)\" d=\"M 165.222133 224.64 \r\nL 165.222133 7.2 \r\n\" style=\"fill:none;stroke:#b0b0b0;stroke-linecap:square;stroke-width:0.8;\"/>\r\n     </g>\r\n     <g id=\"line2d_6\">\r\n      <g>\r\n       <use style=\"stroke:#000000;stroke-width:0.8;\" x=\"165.222133\" xlink:href=\"#m01ba61a9a5\" y=\"224.64\"/>\r\n      </g>\r\n     </g>\r\n     <g id=\"text_3\">\r\n      <!-- 40 -->\r\n      <g transform=\"translate(158.859633 239.238437)scale(0.1 -0.1)\">\r\n       <defs>\r\n        <path d=\"M 2419 4116 \r\nL 825 1625 \r\nL 2419 1625 \r\nL 2419 4116 \r\nz\r\nM 2253 4666 \r\nL 3047 4666 \r\nL 3047 1625 \r\nL 3713 1625 \r\nL 3713 1100 \r\nL 3047 1100 \r\nL 3047 0 \r\nL 2419 0 \r\nL 2419 1100 \r\nL 313 1100 \r\nL 313 1709 \r\nL 2253 4666 \r\nz\r\n\" id=\"DejaVuSans-34\" transform=\"scale(0.015625)\"/>\r\n       </defs>\r\n       <use xlink:href=\"#DejaVuSans-34\"/>\r\n       <use x=\"63.623047\" xlink:href=\"#DejaVuSans-30\"/>\r\n      </g>\r\n     </g>\r\n    </g>\r\n    <g id=\"xtick_4\">\r\n     <g id=\"line2d_7\">\r\n      <path clip-path=\"url(#p7c69a05f23)\" d=\"M 226.709737 224.64 \r\nL 226.709737 7.2 \r\n\" style=\"fill:none;stroke:#b0b0b0;stroke-linecap:square;stroke-width:0.8;\"/>\r\n     </g>\r\n     <g id=\"line2d_8\">\r\n      <g>\r\n       <use style=\"stroke:#000000;stroke-width:0.8;\" x=\"226.709737\" xlink:href=\"#m01ba61a9a5\" y=\"224.64\"/>\r\n      </g>\r\n     </g>\r\n     <g id=\"text_4\">\r\n      <!-- 60 -->\r\n      <g transform=\"translate(220.347237 239.238437)scale(0.1 -0.1)\">\r\n       <defs>\r\n        <path d=\"M 2113 2584 \r\nQ 1688 2584 1439 2293 \r\nQ 1191 2003 1191 1497 \r\nQ 1191 994 1439 701 \r\nQ 1688 409 2113 409 \r\nQ 2538 409 2786 701 \r\nQ 3034 994 3034 1497 \r\nQ 3034 2003 2786 2293 \r\nQ 2538 2584 2113 2584 \r\nz\r\nM 3366 4563 \r\nL 3366 3988 \r\nQ 3128 4100 2886 4159 \r\nQ 2644 4219 2406 4219 \r\nQ 1781 4219 1451 3797 \r\nQ 1122 3375 1075 2522 \r\nQ 1259 2794 1537 2939 \r\nQ 1816 3084 2150 3084 \r\nQ 2853 3084 3261 2657 \r\nQ 3669 2231 3669 1497 \r\nQ 3669 778 3244 343 \r\nQ 2819 -91 2113 -91 \r\nQ 1303 -91 875 529 \r\nQ 447 1150 447 2328 \r\nQ 447 3434 972 4092 \r\nQ 1497 4750 2381 4750 \r\nQ 2619 4750 2861 4703 \r\nQ 3103 4656 3366 4563 \r\nz\r\n\" id=\"DejaVuSans-36\" transform=\"scale(0.015625)\"/>\r\n       </defs>\r\n       <use xlink:href=\"#DejaVuSans-36\"/>\r\n       <use x=\"63.623047\" xlink:href=\"#DejaVuSans-30\"/>\r\n      </g>\r\n     </g>\r\n    </g>\r\n    <g id=\"xtick_5\">\r\n     <g id=\"line2d_9\">\r\n      <path clip-path=\"url(#p7c69a05f23)\" d=\"M 288.19734 224.64 \r\nL 288.19734 7.2 \r\n\" style=\"fill:none;stroke:#b0b0b0;stroke-linecap:square;stroke-width:0.8;\"/>\r\n     </g>\r\n     <g id=\"line2d_10\">\r\n      <g>\r\n       <use style=\"stroke:#000000;stroke-width:0.8;\" x=\"288.19734\" xlink:href=\"#m01ba61a9a5\" y=\"224.64\"/>\r\n      </g>\r\n     </g>\r\n     <g id=\"text_5\">\r\n      <!-- 80 -->\r\n      <g transform=\"translate(281.83484 239.238437)scale(0.1 -0.1)\">\r\n       <defs>\r\n        <path d=\"M 2034 2216 \r\nQ 1584 2216 1326 1975 \r\nQ 1069 1734 1069 1313 \r\nQ 1069 891 1326 650 \r\nQ 1584 409 2034 409 \r\nQ 2484 409 2743 651 \r\nQ 3003 894 3003 1313 \r\nQ 3003 1734 2745 1975 \r\nQ 2488 2216 2034 2216 \r\nz\r\nM 1403 2484 \r\nQ 997 2584 770 2862 \r\nQ 544 3141 544 3541 \r\nQ 544 4100 942 4425 \r\nQ 1341 4750 2034 4750 \r\nQ 2731 4750 3128 4425 \r\nQ 3525 4100 3525 3541 \r\nQ 3525 3141 3298 2862 \r\nQ 3072 2584 2669 2484 \r\nQ 3125 2378 3379 2068 \r\nQ 3634 1759 3634 1313 \r\nQ 3634 634 3220 271 \r\nQ 2806 -91 2034 -91 \r\nQ 1263 -91 848 271 \r\nQ 434 634 434 1313 \r\nQ 434 1759 690 2068 \r\nQ 947 2378 1403 2484 \r\nz\r\nM 1172 3481 \r\nQ 1172 3119 1398 2916 \r\nQ 1625 2713 2034 2713 \r\nQ 2441 2713 2670 2916 \r\nQ 2900 3119 2900 3481 \r\nQ 2900 3844 2670 4047 \r\nQ 2441 4250 2034 4250 \r\nQ 1625 4250 1398 4047 \r\nQ 1172 3844 1172 3481 \r\nz\r\n\" id=\"DejaVuSans-38\" transform=\"scale(0.015625)\"/>\r\n       </defs>\r\n       <use xlink:href=\"#DejaVuSans-38\"/>\r\n       <use x=\"63.623047\" xlink:href=\"#DejaVuSans-30\"/>\r\n      </g>\r\n     </g>\r\n    </g>\r\n    <g id=\"xtick_6\">\r\n     <g id=\"line2d_11\">\r\n      <path clip-path=\"url(#p7c69a05f23)\" d=\"M 349.684943 224.64 \r\nL 349.684943 7.2 \r\n\" style=\"fill:none;stroke:#b0b0b0;stroke-linecap:square;stroke-width:0.8;\"/>\r\n     </g>\r\n     <g id=\"line2d_12\">\r\n      <g>\r\n       <use style=\"stroke:#000000;stroke-width:0.8;\" x=\"349.684943\" xlink:href=\"#m01ba61a9a5\" y=\"224.64\"/>\r\n      </g>\r\n     </g>\r\n     <g id=\"text_6\">\r\n      <!-- 100 -->\r\n      <g transform=\"translate(340.141193 239.238437)scale(0.1 -0.1)\">\r\n       <defs>\r\n        <path d=\"M 794 531 \r\nL 1825 531 \r\nL 1825 4091 \r\nL 703 3866 \r\nL 703 4441 \r\nL 1819 4666 \r\nL 2450 4666 \r\nL 2450 531 \r\nL 3481 531 \r\nL 3481 0 \r\nL 794 0 \r\nL 794 531 \r\nz\r\n\" id=\"DejaVuSans-31\" transform=\"scale(0.015625)\"/>\r\n       </defs>\r\n       <use xlink:href=\"#DejaVuSans-31\"/>\r\n       <use x=\"63.623047\" xlink:href=\"#DejaVuSans-30\"/>\r\n       <use x=\"127.246094\" xlink:href=\"#DejaVuSans-30\"/>\r\n      </g>\r\n     </g>\r\n    </g>\r\n   </g>\r\n   <g id=\"matplotlib.axis_2\">\r\n    <g id=\"ytick_1\">\r\n     <g id=\"line2d_13\">\r\n      <path clip-path=\"url(#p7c69a05f23)\" d=\"M 30.103125 215.124124 \r\nL 364.903125 215.124124 \r\n\" style=\"fill:none;stroke:#b0b0b0;stroke-linecap:square;stroke-width:0.8;\"/>\r\n     </g>\r\n     <g id=\"line2d_14\">\r\n      <defs>\r\n       <path d=\"M 0 0 \r\nL -3.5 0 \r\n\" id=\"m2df487d606\" style=\"stroke:#000000;stroke-width:0.8;\"/>\r\n      </defs>\r\n      <g>\r\n       <use style=\"stroke:#000000;stroke-width:0.8;\" x=\"30.103125\" xlink:href=\"#m2df487d606\" y=\"215.124124\"/>\r\n      </g>\r\n     </g>\r\n     <g id=\"text_7\">\r\n      <!-- 0.0 -->\r\n      <g transform=\"translate(7.2 218.923342)scale(0.1 -0.1)\">\r\n       <defs>\r\n        <path d=\"M 684 794 \r\nL 1344 794 \r\nL 1344 0 \r\nL 684 0 \r\nL 684 794 \r\nz\r\n\" id=\"DejaVuSans-2e\" transform=\"scale(0.015625)\"/>\r\n       </defs>\r\n       <use xlink:href=\"#DejaVuSans-30\"/>\r\n       <use x=\"63.623047\" xlink:href=\"#DejaVuSans-2e\"/>\r\n       <use x=\"95.410156\" xlink:href=\"#DejaVuSans-30\"/>\r\n      </g>\r\n     </g>\r\n    </g>\r\n    <g id=\"ytick_2\">\r\n     <g id=\"line2d_15\">\r\n      <path clip-path=\"url(#p7c69a05f23)\" d=\"M 30.103125 175.842755 \r\nL 364.903125 175.842755 \r\n\" style=\"fill:none;stroke:#b0b0b0;stroke-linecap:square;stroke-width:0.8;\"/>\r\n     </g>\r\n     <g id=\"line2d_16\">\r\n      <g>\r\n       <use style=\"stroke:#000000;stroke-width:0.8;\" x=\"30.103125\" xlink:href=\"#m2df487d606\" y=\"175.842755\"/>\r\n      </g>\r\n     </g>\r\n     <g id=\"text_8\">\r\n      <!-- 0.5 -->\r\n      <g transform=\"translate(7.2 179.641974)scale(0.1 -0.1)\">\r\n       <defs>\r\n        <path d=\"M 691 4666 \r\nL 3169 4666 \r\nL 3169 4134 \r\nL 1269 4134 \r\nL 1269 2991 \r\nQ 1406 3038 1543 3061 \r\nQ 1681 3084 1819 3084 \r\nQ 2600 3084 3056 2656 \r\nQ 3513 2228 3513 1497 \r\nQ 3513 744 3044 326 \r\nQ 2575 -91 1722 -91 \r\nQ 1428 -91 1123 -41 \r\nQ 819 9 494 109 \r\nL 494 744 \r\nQ 775 591 1075 516 \r\nQ 1375 441 1709 441 \r\nQ 2250 441 2565 725 \r\nQ 2881 1009 2881 1497 \r\nQ 2881 1984 2565 2268 \r\nQ 2250 2553 1709 2553 \r\nQ 1456 2553 1204 2497 \r\nQ 953 2441 691 2322 \r\nL 691 4666 \r\nz\r\n\" id=\"DejaVuSans-35\" transform=\"scale(0.015625)\"/>\r\n       </defs>\r\n       <use xlink:href=\"#DejaVuSans-30\"/>\r\n       <use x=\"63.623047\" xlink:href=\"#DejaVuSans-2e\"/>\r\n       <use x=\"95.410156\" xlink:href=\"#DejaVuSans-35\"/>\r\n      </g>\r\n     </g>\r\n    </g>\r\n    <g id=\"ytick_3\">\r\n     <g id=\"line2d_17\">\r\n      <path clip-path=\"url(#p7c69a05f23)\" d=\"M 30.103125 136.561387 \r\nL 364.903125 136.561387 \r\n\" style=\"fill:none;stroke:#b0b0b0;stroke-linecap:square;stroke-width:0.8;\"/>\r\n     </g>\r\n     <g id=\"line2d_18\">\r\n      <g>\r\n       <use style=\"stroke:#000000;stroke-width:0.8;\" x=\"30.103125\" xlink:href=\"#m2df487d606\" y=\"136.561387\"/>\r\n      </g>\r\n     </g>\r\n     <g id=\"text_9\">\r\n      <!-- 1.0 -->\r\n      <g transform=\"translate(7.2 140.360606)scale(0.1 -0.1)\">\r\n       <use xlink:href=\"#DejaVuSans-31\"/>\r\n       <use x=\"63.623047\" xlink:href=\"#DejaVuSans-2e\"/>\r\n       <use x=\"95.410156\" xlink:href=\"#DejaVuSans-30\"/>\r\n      </g>\r\n     </g>\r\n    </g>\r\n    <g id=\"ytick_4\">\r\n     <g id=\"line2d_19\">\r\n      <path clip-path=\"url(#p7c69a05f23)\" d=\"M 30.103125 97.280019 \r\nL 364.903125 97.280019 \r\n\" style=\"fill:none;stroke:#b0b0b0;stroke-linecap:square;stroke-width:0.8;\"/>\r\n     </g>\r\n     <g id=\"line2d_20\">\r\n      <g>\r\n       <use style=\"stroke:#000000;stroke-width:0.8;\" x=\"30.103125\" xlink:href=\"#m2df487d606\" y=\"97.280019\"/>\r\n      </g>\r\n     </g>\r\n     <g id=\"text_10\">\r\n      <!-- 1.5 -->\r\n      <g transform=\"translate(7.2 101.079237)scale(0.1 -0.1)\">\r\n       <use xlink:href=\"#DejaVuSans-31\"/>\r\n       <use x=\"63.623047\" xlink:href=\"#DejaVuSans-2e\"/>\r\n       <use x=\"95.410156\" xlink:href=\"#DejaVuSans-35\"/>\r\n      </g>\r\n     </g>\r\n    </g>\r\n    <g id=\"ytick_5\">\r\n     <g id=\"line2d_21\">\r\n      <path clip-path=\"url(#p7c69a05f23)\" d=\"M 30.103125 57.99865 \r\nL 364.903125 57.99865 \r\n\" style=\"fill:none;stroke:#b0b0b0;stroke-linecap:square;stroke-width:0.8;\"/>\r\n     </g>\r\n     <g id=\"line2d_22\">\r\n      <g>\r\n       <use style=\"stroke:#000000;stroke-width:0.8;\" x=\"30.103125\" xlink:href=\"#m2df487d606\" y=\"57.99865\"/>\r\n      </g>\r\n     </g>\r\n     <g id=\"text_11\">\r\n      <!-- 2.0 -->\r\n      <g transform=\"translate(7.2 61.797869)scale(0.1 -0.1)\">\r\n       <use xlink:href=\"#DejaVuSans-32\"/>\r\n       <use x=\"63.623047\" xlink:href=\"#DejaVuSans-2e\"/>\r\n       <use x=\"95.410156\" xlink:href=\"#DejaVuSans-30\"/>\r\n      </g>\r\n     </g>\r\n    </g>\r\n    <g id=\"ytick_6\">\r\n     <g id=\"line2d_23\">\r\n      <path clip-path=\"url(#p7c69a05f23)\" d=\"M 30.103125 18.717282 \r\nL 364.903125 18.717282 \r\n\" style=\"fill:none;stroke:#b0b0b0;stroke-linecap:square;stroke-width:0.8;\"/>\r\n     </g>\r\n     <g id=\"line2d_24\">\r\n      <g>\r\n       <use style=\"stroke:#000000;stroke-width:0.8;\" x=\"30.103125\" xlink:href=\"#m2df487d606\" y=\"18.717282\"/>\r\n      </g>\r\n     </g>\r\n     <g id=\"text_12\">\r\n      <!-- 2.5 -->\r\n      <g transform=\"translate(7.2 22.516501)scale(0.1 -0.1)\">\r\n       <use xlink:href=\"#DejaVuSans-32\"/>\r\n       <use x=\"63.623047\" xlink:href=\"#DejaVuSans-2e\"/>\r\n       <use x=\"95.410156\" xlink:href=\"#DejaVuSans-35\"/>\r\n      </g>\r\n     </g>\r\n    </g>\r\n   </g>\r\n   <g id=\"line2d_25\">\r\n    <path clip-path=\"url(#p7c69a05f23)\" d=\"M 45.321307 17.083636 \r\nL 48.395687 24.035747 \r\nL 51.470067 17.911988 \r\nL 54.544447 25.180481 \r\nL 57.618827 25.315118 \r\nL 60.693208 40.88863 \r\nL 63.767588 47.405231 \r\nL 66.841968 63.804932 \r\nL 69.916348 78.343061 \r\nL 72.990728 91.706955 \r\nL 76.065108 104.947703 \r\nL 79.139489 113.284639 \r\nL 82.213869 121.272246 \r\nL 85.288249 131.804219 \r\nL 88.362629 139.703664 \r\nL 91.437009 146.461373 \r\nL 94.511389 146.67547 \r\nL 97.58577 151.854794 \r\nL 100.66015 153.382245 \r\nL 103.73453 163.365133 \r\nL 106.80891 169.310271 \r\nL 109.88329 170.748961 \r\nL 112.95767 180.280303 \r\nL 116.032051 183.60991 \r\nL 119.106431 187.93714 \r\nL 122.180811 191.551698 \r\nL 125.255191 195.651441 \r\nL 128.329571 199.915914 \r\nL 131.403951 203.011853 \r\nL 134.478332 204.98937 \r\nL 137.552712 206.898639 \r\nL 140.627092 207.782821 \r\nL 143.701472 208.693627 \r\nL 146.775852 210.009985 \r\nL 149.850232 210.535801 \r\nL 152.924613 210.844569 \r\nL 155.998993 210.644251 \r\nL 159.073373 210.571752 \r\nL 162.147753 210.184213 \r\nL 165.222133 210.108869 \r\nL 168.296513 210.127745 \r\nL 171.370894 209.633165 \r\nL 174.445274 209.767189 \r\nL 177.519654 209.452623 \r\nL 180.594034 210.009841 \r\nL 183.668414 210.11708 \r\nL 186.742794 210.178183 \r\nL 189.817175 210.033502 \r\nL 192.891555 209.864027 \r\nL 195.965935 209.757013 \r\nL 199.040315 209.563045 \r\nL 202.114695 209.059949 \r\nL 205.189075 208.370354 \r\nL 208.263456 208.388621 \r\nL 211.337836 209.033714 \r\nL 214.412216 205.439766 \r\nL 217.486596 208.439409 \r\nL 220.560976 210.91706 \r\nL 223.635356 210.785577 \r\nL 226.709737 210.709071 \r\nL 229.784117 211.250111 \r\nL 232.858497 211.636853 \r\nL 235.932877 212.111991 \r\nL 239.007257 212.36655 \r\nL 242.081637 212.574533 \r\nL 245.156018 212.82447 \r\nL 248.230398 213.009002 \r\nL 251.304778 213.162294 \r\nL 254.379158 213.275259 \r\nL 257.453538 213.488517 \r\nL 260.527918 213.597368 \r\nL 263.602299 213.806209 \r\nL 266.676679 213.812551 \r\nL 269.751059 213.924506 \r\nL 272.825439 213.961849 \r\nL 275.899819 214.024647 \r\nL 278.974199 214.097252 \r\nL 282.04858 214.16541 \r\nL 285.12296 214.269805 \r\nL 288.19734 214.351728 \r\nL 291.27172 214.41768 \r\nL 294.3461 214.459169 \r\nL 297.42048 214.499248 \r\nL 300.494861 214.532853 \r\nL 303.569241 214.55865 \r\nL 306.643621 214.591112 \r\nL 309.718001 214.619232 \r\nL 312.792381 214.641965 \r\nL 315.866761 214.660852 \r\nL 318.941142 214.682068 \r\nL 322.015522 214.66674 \r\nL 325.089902 214.694582 \r\nL 328.164282 214.701923 \r\nL 331.238662 214.727923 \r\nL 334.313042 214.737095 \r\nL 337.387423 214.739269 \r\nL 340.461803 214.756364 \r\nL 343.536183 214.721265 \r\nL 346.610563 214.745494 \r\nL 349.684943 214.745786 \r\n\" style=\"fill:none;stroke:#1f77b4;stroke-linecap:square;stroke-width:1.5;\"/>\r\n   </g>\r\n   <g id=\"patch_3\">\r\n    <path d=\"M 30.103125 224.64 \r\nL 30.103125 7.2 \r\n\" style=\"fill:none;stroke:#000000;stroke-linecap:square;stroke-linejoin:miter;stroke-width:0.8;\"/>\r\n   </g>\r\n   <g id=\"patch_4\">\r\n    <path d=\"M 364.903125 224.64 \r\nL 364.903125 7.2 \r\n\" style=\"fill:none;stroke:#000000;stroke-linecap:square;stroke-linejoin:miter;stroke-width:0.8;\"/>\r\n   </g>\r\n   <g id=\"patch_5\">\r\n    <path d=\"M 30.103125 224.64 \r\nL 364.903125 224.64 \r\n\" style=\"fill:none;stroke:#000000;stroke-linecap:square;stroke-linejoin:miter;stroke-width:0.8;\"/>\r\n   </g>\r\n   <g id=\"patch_6\">\r\n    <path d=\"M 30.103125 7.2 \r\nL 364.903125 7.2 \r\n\" style=\"fill:none;stroke:#000000;stroke-linecap:square;stroke-linejoin:miter;stroke-width:0.8;\"/>\r\n   </g>\r\n  </g>\r\n </g>\r\n <defs>\r\n  <clipPath id=\"p7c69a05f23\">\r\n   <rect height=\"217.44\" width=\"334.8\" x=\"30.103125\" y=\"7.2\"/>\r\n  </clipPath>\r\n </defs>\r\n</svg>\r\n",
      "image/png": "[encoded data removed]"
     },
     "metadata": {
      "needs_background": "light"
     }
    }
   ],
   "metadata": {}
  },
  {
   "cell_type": "markdown",
   "source": [
    "### (c) As shown in figure, the performance of my model is pretty good. The loss decreases eexponentially. "
   ],
   "metadata": {}
  }
 ]
}